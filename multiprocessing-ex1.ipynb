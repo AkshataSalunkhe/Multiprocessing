{
 "cells": [
  {
   "cell_type": "markdown",
   "metadata": {},
   "source": [
    "## Demonstrating serial vs parallel processing\n",
    "\n",
    "**Week02, Example 1**\n",
    "\n",
    "ISM6562 \n",
    "\n",
    "&copy; 2023 Dr. Tim Smith\n",
    "\n",
    "\n",
    "<a target=\"_blank\" href=\"https://colab.research.google.com/github/prof-tcsmith/bd-f23/blob/main/W02/W02.1-multiprocessing-ex1.ipynb#offline=1\">\n",
    "  <img src=\"https://colab.research.google.com/assets/colab-badge.svg\" alt=\"Open In Colab\"/>\n",
    "</a>\n",
    "\n",
    "---"
   ]
  },
  {
   "cell_type": "code",
   "execution_count": 1,
   "metadata": {},
   "outputs": [],
   "source": [
    "# uncomment the following line to install the package on google colab\n",
    "# ! pip install multiprocess\n",
    "\n",
    "# uncomment the following line to install the package on your local machine with conda\n",
    "# ! conda install -c conda-forge multiprocess"
   ]
  },
  {
   "cell_type": "code",
   "execution_count": 2,
   "metadata": {},
   "outputs": [
    {
     "name": "stdout",
     "output_type": "stream",
     "text": [
      "The computer you are running this on has 8 cores.\n"
     ]
    }
   ],
   "source": [
    "import multiprocess\n",
    "from multiprocess import Pool\n",
    "\n",
    "number_of_cores = multiprocess.cpu_count()\n",
    "\n",
    "print(f\"The computer you are running this on has {number_of_cores} cores.\")"
   ]
  },
  {
   "cell_type": "markdown",
   "metadata": {},
   "source": [
    "> NOTE: The difference between single processing and multiprocessing speeds will depend on how many cores your CPU has. The more cores, the more paralellization can be done. My desktop has 32 cores. If you have a different number of cores, you will see a different speedup."
   ]
  },
  {
   "cell_type": "code",
   "execution_count": 4,
   "metadata": {},
   "outputs": [],
   "source": [
    "# the number of cores to use is dependent on a number factors\n",
    "#  * how many other processes are running on your computer\n",
    "#  * how many cores your computer has\n",
    "#  * newer CPUs have p-cores (performance cores) and e-cores (efficiency cores) \n",
    "#       - the p-cores are faster but use more power, the e-cores are slower but use less power\n",
    "\n",
    "# Uncomment on of the following to set the number of cores to use\n",
    "\n",
    "\n",
    "#number_of_cores_to_use = 2 # if you are on colaboratory, you have 2 cores\n",
    "\n",
    "# if you are running this on your local machine, you likely have 4 or more cores\n",
    "number_of_cores_to_use = number_of_cores - 1 # leave one core for the OS "
   ]
  },
  {
   "cell_type": "markdown",
   "metadata": {},
   "source": [
    "In this notebook we will create a task that can be run in parallel. This is defined as a function (you can call it whatever name you'd like, but I've called it 'tasks').\n",
    "\n",
    "The task has a certain computational complexity. In this case, it is defined by the number of iterations in the for loop. The more iterations, the more complex the task. The more complex the task, the more time it takes to complete.\n",
    "\n",
    "Also, I've defined the number of tasks that will be run. The more tasks that are run, the more time it takes to complete."
   ]
  },
  {
   "cell_type": "code",
   "execution_count": 18,
   "metadata": {},
   "outputs": [],
   "source": [
    "task_complexity = 100000\n",
    "number_of_tasks = 1000"
   ]
  },
  {
   "cell_type": "code",
   "execution_count": 19,
   "metadata": {},
   "outputs": [],
   "source": [
    "def task(num):\n",
    "    val = 0\n",
    "    for i in range(task_complexity):\n",
    "        val += i / 23\n",
    "    return val"
   ]
  },
  {
   "cell_type": "markdown",
   "metadata": {},
   "source": [
    "Now, let's do this job a number of times on a single core and then on multiple cores. We'll time the results and compare."
   ]
  },
  {
   "cell_type": "markdown",
   "metadata": {},
   "source": [
    "Single core results..."
   ]
  },
  {
   "cell_type": "code",
   "execution_count": 20,
   "metadata": {},
   "outputs": [
    {
     "name": "stdout",
     "output_type": "stream",
     "text": [
      "[217389130.43478262, 217389130.43478262, 217389130.43478262, 217389130.43478262, 217389130.43478262, 217389130.43478262, 217389130.43478262, 217389130.43478262, 217389130.43478262, 217389130.43478262]\n",
      "CPU times: total: 1.92 s\n",
      "Wall time: 5.37 s\n"
     ]
    }
   ],
   "source": [
    "%%time\n",
    "data = []\n",
    "for i in range(number_of_tasks):\n",
    "    data += [task(i)]\n",
    "\n",
    "print(data[:10])"
   ]
  },
  {
   "cell_type": "markdown",
   "metadata": {},
   "source": [
    "> NOTE: **Wall time** is the total time from start to finish of the call. This includes time spent waiting for network, CPU, and disk I/O resources. This is the time that you would measure as the elapsed time between the start and end of a python script.\n"
   ]
  },
  {
   "cell_type": "markdown",
   "metadata": {},
   "source": [
    "Multiple core results..."
   ]
  },
  {
   "cell_type": "code",
   "execution_count": 26,
   "metadata": {},
   "outputs": [
    {
     "ename": "TypeError",
     "evalue": "task() takes 1 positional argument but 2 were given",
     "output_type": "error",
     "traceback": [
      "\u001b[1;31m---------------------------------------------------------------------------\u001b[0m",
      "\u001b[1;31mRemoteTraceback\u001b[0m                           Traceback (most recent call last)",
      "\u001b[1;31mRemoteTraceback\u001b[0m: \n\"\"\"\nTraceback (most recent call last):\n  File \"c:\\Users\\salun\\anaconda3\\Lib\\site-packages\\multiprocess\\pool.py\", line 125, in worker\n    result = (True, func(*args, **kwds))\n                    ^^^^^^^^^^^^^^^^^^^\n  File \"c:\\Users\\salun\\anaconda3\\Lib\\site-packages\\multiprocess\\pool.py\", line 51, in starmapstar\n    return list(itertools.starmap(args[0], args[1]))\n           ^^^^^^^^^^^^^^^^^^^^^^^^^^^^^^^^^^^^^^^^^\nTypeError: task() takes 1 positional argument but 2 were given\n\"\"\"",
      "\nThe above exception was the direct cause of the following exception:\n",
      "\u001b[1;31mTypeError\u001b[0m                                 Traceback (most recent call last)",
      "File \u001b[1;32m<timed exec>:2\u001b[0m\n",
      "File \u001b[1;32mc:\\Users\\salun\\anaconda3\\Lib\\site-packages\\multiprocess\\pool.py:375\u001b[0m, in \u001b[0;36mPool.starmap\u001b[1;34m(self, func, iterable, chunksize)\u001b[0m\n\u001b[0;32m    369\u001b[0m \u001b[38;5;28;01mdef\u001b[39;00m \u001b[38;5;21mstarmap\u001b[39m(\u001b[38;5;28mself\u001b[39m, func, iterable, chunksize\u001b[38;5;241m=\u001b[39m\u001b[38;5;28;01mNone\u001b[39;00m):\n\u001b[0;32m    370\u001b[0m \u001b[38;5;250m    \u001b[39m\u001b[38;5;124;03m'''\u001b[39;00m\n\u001b[0;32m    371\u001b[0m \u001b[38;5;124;03m    Like `map()` method but the elements of the `iterable` are expected to\u001b[39;00m\n\u001b[0;32m    372\u001b[0m \u001b[38;5;124;03m    be iterables as well and will be unpacked as arguments. Hence\u001b[39;00m\n\u001b[0;32m    373\u001b[0m \u001b[38;5;124;03m    `func` and (a, b) becomes func(a, b).\u001b[39;00m\n\u001b[0;32m    374\u001b[0m \u001b[38;5;124;03m    '''\u001b[39;00m\n\u001b[1;32m--> 375\u001b[0m     \u001b[38;5;28;01mreturn\u001b[39;00m \u001b[38;5;28mself\u001b[39m\u001b[38;5;241m.\u001b[39m_map_async(func, iterable, starmapstar, chunksize)\u001b[38;5;241m.\u001b[39mget()\n",
      "File \u001b[1;32mc:\\Users\\salun\\anaconda3\\Lib\\site-packages\\multiprocess\\pool.py:774\u001b[0m, in \u001b[0;36mApplyResult.get\u001b[1;34m(self, timeout)\u001b[0m\n\u001b[0;32m    772\u001b[0m     \u001b[38;5;28;01mreturn\u001b[39;00m \u001b[38;5;28mself\u001b[39m\u001b[38;5;241m.\u001b[39m_value\n\u001b[0;32m    773\u001b[0m \u001b[38;5;28;01melse\u001b[39;00m:\n\u001b[1;32m--> 774\u001b[0m     \u001b[38;5;28;01mraise\u001b[39;00m \u001b[38;5;28mself\u001b[39m\u001b[38;5;241m.\u001b[39m_value\n",
      "\u001b[1;31mTypeError\u001b[0m: task() takes 1 positional argument but 2 were given"
     ]
    }
   ],
   "source": [
    "%%time\n",
    "\n",
    "with Pool(number_of_cores) as p:\n",
    "    data = p.starmap(task, [(i,task_complexity) for i in range(number_of_tasks)])\n",
    "\n",
    "print(data[:10])    "
   ]
  },
  {
   "cell_type": "markdown",
   "metadata": {},
   "source": [
    "### Summary\n",
    "\n",
    "The multiprocessing package is a great way to speed up your code. But, if the complexity of the task is not high enough, the overhead of creating the processes will be higher than the speedup you get from parallelization. In this case, the code will actually run slower than the serial version. This overhead is also why the speedup is not linear with the number of cores. The more cores you use, the more overhead you have. This overhead though becomes a smaller percentage of the total time as the complexity of the task increases."
   ]
  }
 ],
 "metadata": {
  "kernelspec": {
   "display_name": "Python 3 (ipykernel)",
   "language": "python",
   "name": "python3"
  },
  "language_info": {
   "codemirror_mode": {
    "name": "ipython",
    "version": 3
   },
   "file_extension": ".py",
   "mimetype": "text/x-python",
   "name": "python",
   "nbconvert_exporter": "python",
   "pygments_lexer": "ipython3",
   "version": "3.11.7"
  },
  "vscode": {
   "interpreter": {
    "hash": "31f2aee4e71d21fbe5cf8b01ff0e069b9275f58929596ceb00d14d90e3e16cd6"
   }
  }
 },
 "nbformat": 4,
 "nbformat_minor": 4
}
